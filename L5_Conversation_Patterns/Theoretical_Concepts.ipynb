{
 "cells": [
  {
   "cell_type": "markdown",
   "metadata": {},
   "source": [
    "# Conversation Patterns\n",
    "\n",
    "- - Two-agent chat ---> simplest conversation pattern with two agents chatting (used the *initiate_chat* method)"
   ]
  },
  {
   "cell_type": "markdown",
   "metadata": {},
   "source": [
    "#### AutoGen offers more:\n",
    "\n",
    "- - Two Agent Chat\n",
    "- - Sequential Chat ---> a series of two agents linked by a carryover mechanism.\n",
    "- - Group Chat ---> involves more than two agents, directed by an agent called GroupChatManager.\n",
    "- - Nested Chat ---> combines a workflow into a single agent for reuse in larger workflows."
   ]
  },
  {
   "cell_type": "markdown",
   "metadata": {},
   "source": [
    "#### Group Chat \n",
    "\n",
    "1). Select Speaker ---> groupchatmanager selects one agent from multiple agents.\n",
    "\n",
    "2). Agent Speak ---> the selected agent speaks back to groupchatmanager.\n",
    "\n",
    "3). Broadcast Message ---> groupchatmanager messages to all agents."
   ]
  }
 ],
 "metadata": {
  "language_info": {
   "name": "python"
  }
 },
 "nbformat": 4,
 "nbformat_minor": 2
}
