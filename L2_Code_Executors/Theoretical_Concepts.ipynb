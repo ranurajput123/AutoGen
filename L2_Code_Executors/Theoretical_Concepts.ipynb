{
 "cells": [
  {
   "cell_type": "markdown",
   "metadata": {},
   "source": [
    "# Code Executors"
   ]
  },
  {
   "cell_type": "markdown",
   "metadata": {},
   "source": [
    "### AutoGen can execute code:\n",
    "\n",
    "- - Locally--> runs code directly on the host system (development).\n",
    "- - Docker--> runs code in an isolated container."
   ]
  }
 ],
 "metadata": {
  "language_info": {
   "name": "python"
  }
 },
 "nbformat": 4,
 "nbformat_minor": 2
}
