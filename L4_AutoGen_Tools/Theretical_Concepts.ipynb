{
 "cells": [
  {
   "cell_type": "markdown",
   "metadata": {},
   "source": [
    "# Tools\n",
    "\n",
    "- - We have no control over what an agent writes(code). So we have tools that can actually give to our agents so that they can do more work or that we can actually control something related to this conversation, this execution that happens around our agents."
   ]
  },
  {
   "cell_type": "markdown",
   "metadata": {},
   "source": [
    "#### Tools in AutoGen\n",
    "\n",
    "- - Pre-defined functions\n",
    "- - Controlled actions\n",
    "- - Controlled availability"
   ]
  }
 ],
 "metadata": {
  "language_info": {
   "name": "python"
  }
 },
 "nbformat": 4,
 "nbformat_minor": 2
}
