{
 "cells": [
  {
   "cell_type": "markdown",
   "metadata": {},
   "source": [
    "# Human Input Modes\n",
    "\n",
    "- - 'NEVER'---> human input is never requested.\n",
    "- - 'TERMINATE'---> (default) human input is only requested when a termination condition is met.\n",
    "- - 'ALWAYS'---> human input is always requested. Human skip and trigger an auto-reply."
   ]
  },
  {
   "cell_type": "markdown",
   "metadata": {},
   "source": [
    "# LLM Caching\n",
    "\n",
    "- - AutoGen supports caching API requests for cost reduction and reusability of previusly issued requests."
   ]
  }
 ],
 "metadata": {
  "kernelspec": {
   "display_name": "venv",
   "language": "python",
   "name": "python3"
  },
  "language_info": {
   "name": "python",
   "version": "3.10.7"
  }
 },
 "nbformat": 4,
 "nbformat_minor": 2
}
