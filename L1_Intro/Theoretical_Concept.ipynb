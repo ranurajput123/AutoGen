{
 "cells": [
  {
   "cell_type": "markdown",
   "metadata": {},
   "source": [
    "# AutoGen Building Blocks\n",
    "\n",
    "- Multi-agents Conversations\n",
    "- Conversation Patterns"
   ]
  },
  {
   "cell_type": "markdown",
   "metadata": {},
   "source": [
    "### 1). Multi-agents Conversations\n",
    "\n",
    "- - LLM Agents\n",
    "- - Tool Agents\n",
    "- - Human Agents"
   ]
  },
  {
   "cell_type": "markdown",
   "metadata": {},
   "source": [
    "# Agents in AutoGen\n",
    "\n",
    "#### These agents have two features:\n",
    "- - Conversable--> agents can send and receive messages.\n",
    "- - Customizable--> agents can integrate with AI models, tools, humans or a combination of all."
   ]
  },
  {
   "cell_type": "markdown",
   "metadata": {},
   "source": [
    "# Built-in Agents in AutoGen\n",
    "\n",
    "#### ConversableAgent\n",
    "\n",
    "- - Assistant Agent (human_input_mode=\"NEVER\", llm_config=False) never requests human input and doesn't execute code. Good for creating code writer w/o execution capabilities.\n",
    "- - UserProxyAgent (human_input_mode=\"ALWAYS\", llm_config=False) also requests human input for every message, doesn't use LLM. It is good for creating code executors.\n",
    "- - GroupChatManager (human_input_mode=\"NEVER\")"
   ]
  },
  {
   "cell_type": "markdown",
   "metadata": {},
   "source": [
    "# Best Practice\n",
    "\n",
    "- - Always customize your agent's \"system_message\" instructions for your specific use case.\n",
    "- - Avoid subclassing \"UserProxyAgent\" and \"AssistantAgent\"."
   ]
  },
  {
   "cell_type": "markdown",
   "metadata": {},
   "source": [
    "# Human Feedback in Agents\n",
    "\n",
    "### Humans in the loop with agents\n",
    "\n",
    "- - Human Reply (by human)\n",
    "- - Auto Reply (by LLM)"
   ]
  }
 ],
 "metadata": {
  "language_info": {
   "name": "python"
  }
 },
 "nbformat": 4,
 "nbformat_minor": 2
}
